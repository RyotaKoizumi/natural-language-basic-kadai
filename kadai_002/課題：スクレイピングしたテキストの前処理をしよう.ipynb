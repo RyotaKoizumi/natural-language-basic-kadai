{
  "nbformat": 4,
  "nbformat_minor": 0,
  "metadata": {
    "colab": {
      "provenance": []
    },
    "kernelspec": {
      "name": "python3",
      "display_name": "Python 3"
    },
    "language_info": {
      "name": "python"
    }
  },
  "cells": [
    {
      "cell_type": "code",
      "execution_count": 42,
      "metadata": {
        "colab": {
          "base_uri": "https://localhost:8080/"
        },
        "id": "nq-941ZqUeOQ",
        "outputId": "acf2f1cf-678c-4f7e-e25b-0f86c8feb927"
      },
      "outputs": [
        {
          "output_type": "stream",
          "name": "stdout",
          "text": [
            "['近頃', 'は', '大分', '方々', 'の', '雑誌', '談話', 'を', 'しろ', 'しろ', 'と', '責め', 'られ', 'て', '、', '頭', 'が', 'がらん胴', 'に', 'なっ', 'た', '、', '当分', '品切れ', 'の', '看板', 'でも', '懸け', 'たい', 'くらい', 'に', '思っ', 'て', 'い', 'ます', '。']\n"
          ]
        }
      ],
      "source": [
        "import re\n",
        "from urllib import request\n",
        "from bs4 import BeautifulSoup\n",
        "\n",
        "url = 'https://www.aozora.gr.jp/cards/000148/files/2371_13943.html'\n",
        "response = request.urlopen(url)\n",
        "soup = BeautifulSoup(response)\n",
        "response.close()\n",
        "\n",
        "main_text = soup.find('div', class_ = 'main_text')\n",
        "main_text = main_text.get_text()\n",
        "main_text = re.sub(r'[\\r \\n \\u3000]', '', main_text)\n",
        "\n",
        "stopwords_url = 'http://svn.sourceforge.jp/svnroot/slothlib/CSharp/Version1/SlothLib/NLP/Filter/StopWord/word/Japanese.txt'\n",
        "response = request.urlopen(stopwords_url)\n",
        "stopwords_soup = BeautifulSoup(response)\n",
        "response.close()\n",
        "\n",
        "stopwords_text = stopwords_soup.text\n",
        "stopwords_text = stopwords_text.split('\\r\\n')\n",
        "stopwords_text = [word for word in stopwords_text if word]\n",
        "\n",
        "split_text_list = ['近頃', 'は', '大分', '方々', 'の', '雑誌', 'から', '談話', 'を', 'しろ', 'しろ', 'と', '責め', 'られ', 'て', '、', '頭', 'が', 'がらん胴', 'に', 'なっ', 'た', 'から', '、', '当分', '品切れ', 'の', '看板', 'でも', '懸け', 'たい', 'くらい', 'に', '思っ', 'て', 'い', 'ます', '。']\n",
        "result_text_list = list()\n",
        "for split_text in split_text_list:\n",
        "    if split_text not in stopwords_list:\n",
        "        result_text_list.append(split_text)\n",
        "\n",
        "print(result_text_list)\n"
      ]
    }
  ]
}